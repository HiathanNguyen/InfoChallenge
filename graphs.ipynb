{
 "cells": [
  {
   "cell_type": "code",
   "execution_count": null,
   "metadata": {},
   "outputs": [
    {
     "ename": "",
     "evalue": "",
     "output_type": "error",
     "traceback": [
      "\u001b[1;31mThe kernel failed to start as the Python Environment 'sd212' is no longer available. Consider selecting another kernel or refreshing the list of Python Environments."
     ]
    }
   ],
   "source": [
    "import pandas as pd\n",
    "import plotly.express as px\n",
    "csv = pd.read_csv('FF_SR_ data.csv')\n",
    "df = csv[['food_category_id','FF Food description','FF_Component','SR Mean per 100g','FF Mean per 100g']]\n",
    "df = df[df['FF_Component'].str.contains('SFA') == False]\n",
    "\n",
    "df2 = pd.read_csv(\"FF_SR_ data.csv\")\n",
    "df[\"PC\"] = abs((df2[\"FF Mean per 100g\"]-df2[\"SR Mean per 100g\"])/(df2[\"SR Mean per 100g\"])) * 100\n",
    "\n",
    "\n",
    "DAIRY = df[df['food_category_id'] == 1]\n",
    "DAIRY = DAIRY.sort_values(by=\"PC\", ascending=False)\n",
    "DAIRY = DAIRY[DAIRY['PC'] != 0]\n",
    "#DAIRY = pd.isnull(DAIRY[DAIRY['PC'] == False])\n",
    "\n",
    "DAIRY = DAIRY[DAIRY['SR Mean per 100g'] != 0]\n",
    "\n",
    "topten = DAIRY[0:10]\n",
    "fig = px.pie(topten, values='PC', names='FF_Component')\n",
    "fig.show()"
   ]
  }
 ],
 "metadata": {
  "kernelspec": {
   "display_name": "base",
   "language": "python",
   "name": "python3"
  },
  "language_info": {
   "codemirror_mode": {
    "name": "ipython",
    "version": 3
   },
   "file_extension": ".py",
   "mimetype": "text/x-python",
   "name": "python",
   "nbconvert_exporter": "python",
   "pygments_lexer": "ipython3",
   "version": "3.11.5"
  }
 },
 "nbformat": 4,
 "nbformat_minor": 2
}
